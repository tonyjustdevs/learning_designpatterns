{
 "cells": [
  {
   "cell_type": "code",
   "execution_count": 1,
   "metadata": {},
   "outputs": [],
   "source": [
    "# 1.  create metaclass(type)\n",
    "# 2.  cls_attr instances_dct\n",
    "# 3a. override __call__()\n",
    "# 3b. if not in instances_dict: object = super()....call...\n",
    "# 3c. add to instances_dict[cls]\n",
    "# 4.  else return object\n"
   ]
  },
  {
   "cell_type": "code",
   "execution_count": 2,
   "metadata": {},
   "outputs": [],
   "source": [
    "class SingleTonyCls(type):\n",
    "    _instances = {}\n",
    "    \n",
    "    def __call__(cls, *args, **kwds):\n",
    "        if cls not in cls._instances:\n",
    "            print(f\"{cls} does not exist! Creating new... \")\n",
    "            object_instance = super().__call__(*args, **kwds)\n",
    "            cls._instances[cls] = object_instance\n",
    "            print(f\"[{id(object_instance)}] added to {cls} list\")\n",
    "            # print(f\"[__name__]: {__name__}\")\n",
    "            # print(f\"[cls]: {cls}\")\n",
    "            # print(f\"[__class__]: {__class__}\")\n",
    "        else:\n",
    "            print(f\"{cls} exists: [{id(cls._instances[cls])}] \")\n",
    "        \n",
    "        return cls._instances[cls]\n"
   ]
  },
  {
   "cell_type": "code",
   "execution_count": 3,
   "metadata": {},
   "outputs": [
    {
     "name": "stdout",
     "output_type": "stream",
     "text": [
      "<class '__main__.Bar'> does not exist! Creating new... \n",
      "[140444226588016] added to <class '__main__.Bar'> list\n"
     ]
    }
   ],
   "source": [
    "class Bar(metaclass = SingleTonyCls):\n",
    "    pass\n",
    "\n",
    "bar_a = Bar()"
   ]
  },
  {
   "cell_type": "code",
   "execution_count": 4,
   "metadata": {},
   "outputs": [
    {
     "name": "stdout",
     "output_type": "stream",
     "text": [
      "<class '__main__.Bar'> exists: [140444226588016] \n"
     ]
    }
   ],
   "source": [
    "bar_b = Bar()\n"
   ]
  },
  {
   "cell_type": "code",
   "execution_count": 5,
   "metadata": {},
   "outputs": [
    {
     "name": "stdout",
     "output_type": "stream",
     "text": [
      "<class '__main__.Bar'> exists: [140444226588016] \n"
     ]
    }
   ],
   "source": [
    "bar_c = Bar()\n"
   ]
  },
  {
   "cell_type": "code",
   "execution_count": 6,
   "metadata": {},
   "outputs": [
    {
     "name": "stdout",
     "output_type": "stream",
     "text": [
      "140444226588016\n",
      "140444226588016\n",
      "140444226588016\n"
     ]
    }
   ],
   "source": [
    "print(id(bar_a))\n",
    "print(id(bar_b))\n",
    "print(id(bar_c))"
   ]
  }
 ],
 "metadata": {
  "kernelspec": {
   "display_name": ".venv",
   "language": "python",
   "name": "python3"
  },
  "language_info": {
   "codemirror_mode": {
    "name": "ipython",
    "version": 3
   },
   "file_extension": ".py",
   "mimetype": "text/x-python",
   "name": "python",
   "nbconvert_exporter": "python",
   "pygments_lexer": "ipython3",
   "version": "3.13.0"
  }
 },
 "nbformat": 4,
 "nbformat_minor": 2
}
