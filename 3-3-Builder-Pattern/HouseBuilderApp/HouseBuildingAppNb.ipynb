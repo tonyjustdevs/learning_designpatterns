{
 "cells": [
  {
   "cell_type": "markdown",
   "metadata": {},
   "source": [
    "# psuedo structure  \n",
    "- 1a.     HouseCls    \n",
    "- 1bi.    init(self, HouseBuilder)    \n",
    "- 1bii.     obj_attrs: .storeys, .has_ac, .floor_type  \n",
    "- 1biii.    obj_attrs assign to HouseBuilder_obj_attrs  \n",
    "\n",
    "- 2a.     HouseBuilderCls:  \n",
    "- 2bi.    init(self)    \n",
    "- 2bii.    obj_attrs: .storeys, .has_ac, .floor_type    \n",
    "- 2biii.   obj_attrs assign to None  \n",
    "- 2c.     obj_method: set_obj_attrs(self, value) for all attrs  \n",
    "- 2d.     obj_method: build(self): return House(self)       "
   ]
  },
  {
   "cell_type": "code",
   "execution_count": null,
   "metadata": {},
   "outputs": [],
   "source": [
    "\n"
   ]
  },
  {
   "cell_type": "code",
   "execution_count": null,
   "metadata": {},
   "outputs": [],
   "source": [
    "class HouseBuilder():\n",
    "    def __init__(self):\n",
    "        self.storeys: int = None\n",
    "        self.has_ac: bool = None\n",
    "        self.floor_type: str = None\n",
    "    \n",
    "    def set_storeys(self, storeys):\n",
    "        self.storeys = storeys\n",
    "        return self\n",
    "    \n",
    "    def set_has_ac(self, has_ac):\n",
    "        self.has_ac = has_ac\n",
    "        return self\n",
    "    \n",
    "    def set_floor_type(self, floor_type):\n",
    "        self.floor_type = floor_type\n",
    "        return self\n",
    "\n",
    "    def build(self):\n",
    "        house = House(self) # House() to be implemented\n",
    "        self.__init__() # reset attrs to None for next build()\n",
    "        return house    # to be passed to House()   \n",
    "\n",
    "# - 2a.     HouseBuilderCls:  \n",
    "# - 2bi.    init(self)    \n",
    "# - 2bii.    obj_attrs: .storeys, .has_ac, .floor_type    \n",
    "# - 2biii.   obj_attrs assign to None  \n",
    "# - 2c.     obj_method: set_obj_attrs(self, value) for all attrs  \n",
    "# - 2d.     obj_method: build(self): return House(self)       "
   ]
  }
 ],
 "metadata": {
  "kernelspec": {
   "display_name": ".venv",
   "language": "python",
   "name": "python3"
  },
  "language_info": {
   "name": "python",
   "version": "3.13.0"
  }
 },
 "nbformat": 4,
 "nbformat_minor": 2
}
