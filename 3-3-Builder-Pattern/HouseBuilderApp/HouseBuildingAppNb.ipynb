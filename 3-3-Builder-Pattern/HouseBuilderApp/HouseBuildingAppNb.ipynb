{
 "cells": [
  {
   "cell_type": "markdown",
   "metadata": {},
   "source": [
    "# psuedo structure  \n",
    "- 1a.     HouseCls    \n",
    "- 1bi.    init(self, HouseBuilder)    \n",
    "- 1bii.     obj_attrs: .storeys, .has_ac, .floor_type  \n",
    "- 1biii.    obj_attrs assign to HouseBuilder_obj_attrs  \n",
    "\n",
    "- 2a.     HouseBuilderCls:  \n",
    "- 2bi.    init(self)    \n",
    "- 2bii.    obj_attrs: .storeys, .has_ac, .floor_type    \n",
    "- 2biii.   obj_attrs assign to None  \n",
    "- 2c.     obj_method: set_obj_attrs(self, value) for all attrs  \n",
    "- 2d.     obj_method: build(self): return House(self)       \n",
    "\n",
    "- 3a.     DirectorCls:\n",
    "- 3b.     init(self, HouseBuilder)    \n",
    "- 3ci.    build_sgl_storey_house()\n",
    "- 3cii.   build_dbl_storey_house()"
   ]
  },
  {
   "cell_type": "code",
   "execution_count": 1,
   "metadata": {},
   "outputs": [],
   "source": [
    "class HouseBuilder():\n",
    "    def __init__(self):\n",
    "        self.storeys: int|None = None\n",
    "        self.has_ac: bool|None = None\n",
    "        self.floor_type: str|None = None\n",
    "    \n",
    "    def set_storeys(self, storeys: int|None):\n",
    "        self.storeys = storeys\n",
    "        return self\n",
    "    \n",
    "    def set_has_ac(self, has_ac: bool|None):\n",
    "        self.has_ac = has_ac\n",
    "        return self\n",
    "    \n",
    "    def set_floor_type(self, floor_type: str|None):\n",
    "        self.floor_type = floor_type\n",
    "        return self\n",
    "\n",
    "    def build(self):\n",
    "        house = House(self) # House() to be implemented\n",
    "        self.__init__() # reset attrs to None for next build()\n",
    "        return house    # to be passed to House()   \n",
    "\n",
    "    def __str__(self):\n",
    "        return f\"Hi, I'm a builder of houses 🏚️!\"\n",
    "# - 2a.     HouseBuilderCls:  \n",
    "# - 2bi.    init(self)    \n",
    "# - 2bii.    obj_attrs: .storeys, .has_ac, .floor_type    \n",
    "# - 2biii.   obj_attrs assign to None  \n",
    "# - 2c.     obj_method: set_obj_attrs(self, value) for all attrs  \n",
    "# - 2d.     obj_method: build(self): return House(self)       "
   ]
  },
  {
   "cell_type": "code",
   "execution_count": 2,
   "metadata": {},
   "outputs": [],
   "source": [
    "class House():\n",
    "    def __init__(self, builder: HouseBuilder):\n",
    "        self.storeys: int|None = builder.storeys\n",
    "        self.has_ac: bool|None = builder.has_ac\n",
    "        self.floor_type: str|None = builder.floor_type\n",
    "\n",
    "    def __str__(self):\n",
    "        return  (\n",
    "            f\"A {self.storeys}-storey house \"\n",
    "            f\"with {self.floor_type} floors \"\n",
    "            f\"{'and with' if self.has_ac else 'but without'} aircon \"\n",
    "            )\n",
    "# - 1a.     HouseCls    \n",
    "# - 1bi.    init(self, HouseBuilder)    \n",
    "# - 1bii.     obj_attrs: .storeys, .has_ac, .floor_type  \n",
    "# - 1biii.    obj_attrs assign to HouseBuilder_obj_attrs  "
   ]
  }
 ],
 "metadata": {
  "kernelspec": {
   "display_name": ".venv",
   "language": "python",
   "name": "python3"
  },
  "language_info": {
   "codemirror_mode": {
    "name": "ipython",
    "version": 3
   },
   "file_extension": ".py",
   "mimetype": "text/x-python",
   "name": "python",
   "nbconvert_exporter": "python",
   "pygments_lexer": "ipython3",
   "version": "3.13.0"
  }
 },
 "nbformat": 4,
 "nbformat_minor": 2
}
