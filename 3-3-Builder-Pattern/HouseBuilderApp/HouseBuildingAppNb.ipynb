{
 "cells": [
  {
   "cell_type": "markdown",
   "metadata": {},
   "source": [
    "# psuedo structure  \n",
    "1a.     HouseCls    \n",
    "1bi.    init(self, HouseBuilder)    \n",
    "1bii.     obj_attrs: .storeys, .has_ac, .floor_type  \n",
    "1biii.    obj_attrs assign to HouseBuilder_obj_attrs  \n",
    "\n",
    "2a.     HouseBuilderCls:  \n",
    "2bi.    init(self)    \n",
    "2bii.    obj_attrs: .storeys, .has_ac, .floor_type    \n",
    "2biii.   obj_attrs assign to None  \n",
    "2c.     obj_method: set_obj_attrs(self, value) for all attrs  \n",
    "2d.     obj_method: build(self): return House(self)       "
   ]
  },
  {
   "cell_type": "code",
   "execution_count": null,
   "metadata": {},
   "outputs": [],
   "source": []
  },
  {
   "cell_type": "code",
   "execution_count": null,
   "metadata": {},
   "outputs": [],
   "source": []
  },
  {
   "cell_type": "markdown",
   "metadata": {},
   "source": []
  }
 ],
 "metadata": {
  "kernelspec": {
   "display_name": ".venv",
   "language": "python",
   "name": "python3"
  },
  "language_info": {
   "name": "python",
   "version": "3.13.0"
  }
 },
 "nbformat": 4,
 "nbformat_minor": 2
}
