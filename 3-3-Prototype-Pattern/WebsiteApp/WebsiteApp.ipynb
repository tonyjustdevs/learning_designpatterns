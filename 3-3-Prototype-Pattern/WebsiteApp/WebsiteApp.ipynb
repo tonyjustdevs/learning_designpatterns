{
 "cells": [
  {
   "cell_type": "code",
   "execution_count": 1,
   "metadata": {},
   "outputs": [
    {
     "data": {
      "text/plain": [
       "'hi'"
      ]
     },
     "execution_count": 1,
     "metadata": {},
     "output_type": "execute_result"
    }
   ],
   "source": [
    "\"hi\""
   ]
  },
  {
   "cell_type": "code",
   "execution_count": null,
   "metadata": {},
   "outputs": [],
   "source": [
    "# Create Website Class\n",
    "# init instance defaults attrs\n",
    "# - name, domain, description\n",
    "# - **kwargs\n",
    "# - setattr()"
   ]
  },
  {
   "cell_type": "code",
   "execution_count": 36,
   "metadata": {},
   "outputs": [
    {
     "data": {
      "text/plain": [
       "{'name': 'tony',\n",
       " 'domain': '420.com',\n",
       " 'description': 'a cool website',\n",
       " 'not_so_secret_no': 69,\n",
       " 'another_key': '666'}"
      ]
     },
     "execution_count": 36,
     "metadata": {},
     "output_type": "execute_result"
    }
   ],
   "source": [
    "class Website2():\n",
    "    def __init__(self, name, domain, description, **kwargs):\n",
    "        self.name = name\n",
    "        self.domain = domain\n",
    "        self.description = description\n",
    "        \n",
    "        # for k,v in kwargs.items():\n",
    "        #     setattr(self,k,v)        \n",
    "        \n",
    "        for k in kwargs:\n",
    "            setattr(self,k,kwargs[k])        \n",
    "\n",
    "\n",
    "input_dict = {\n",
    "    'not_so_secret_no':69,\n",
    "    'another_key': '666'\n",
    "}\n",
    "# web_instance = Website(name=\"tony\", domain=\"420.com\", description=\"a cool website\",kwargs=input_dict)\n",
    "web_instance2 = Website2(name=\"tony\", domain=\"420.com\", description=\"a cool website\",**input_dict)\n",
    "vars(web_instance2)"
   ]
  },
  {
   "cell_type": "code",
   "execution_count": 35,
   "metadata": {},
   "outputs": [
    {
     "data": {
      "text/plain": [
       "{'name': 'tony',\n",
       " 'domain': '420.com',\n",
       " 'description': 'a cool website',\n",
       " 'kwargs': {'not_so_secret_no': 69, 'another_key': '666'}}"
      ]
     },
     "execution_count": 35,
     "metadata": {},
     "output_type": "execute_result"
    }
   ],
   "source": [
    "class Website():\n",
    "    def __init__(self, name, domain, description, **kwargs):\n",
    "        self.name = name\n",
    "        self.domain = domain\n",
    "        self.description = description\n",
    "        \n",
    "        # for k,v in kwargs.items():\n",
    "        #     setattr(self,k,v)        \n",
    "        \n",
    "        for k in kwargs:\n",
    "            setattr(self,k,kwargs[k])        \n",
    "\n",
    "\n",
    "input_dict = {\n",
    "    'not_so_secret_no':69,\n",
    "    'another_key': '666'\n",
    "}\n",
    "web_instance = Website(name=\"tony\", domain=\"420.com\", description=\"a cool website\",kwargs=input_dict)\n",
    "vars(web_instance)"
   ]
  },
  {
   "cell_type": "code",
   "execution_count": 25,
   "metadata": {},
   "outputs": [],
   "source": []
  },
  {
   "cell_type": "code",
   "execution_count": null,
   "metadata": {},
   "outputs": [],
   "source": [
    "# create str\n",
    "\n",
    "# list of f-strings\n",
    "# line 0:       name and id\n",
    "# line 1-n:     attr and val    \n",
    "# return \"\".join(summary) # wtf is this"
   ]
  },
  {
   "cell_type": "code",
   "execution_count": 71,
   "metadata": {},
   "outputs": [],
   "source": [
    "class Website3():\n",
    "    def __init__(self, name, domain, description, **kwargs):\n",
    "        self.name = name\n",
    "        self.domain = domain\n",
    "        self.description = description\n",
    "        \n",
    "        for k in kwargs:\n",
    "            setattr(self,k,kwargs[k])        \n",
    "\n",
    "    def __str__(self):\n",
    "        # initalise summary list\n",
    "        summary = [f\"{self.name} - {id(self)}\\n\"]\n",
    "        \n",
    "        info_dct_view = vars(self).items()\n",
    "        info_dct_view = sorted(info_dct_view)\n",
    "        \n",
    "        for k,v in info_dct_view:\n",
    "            if k==\"name\":\n",
    "                continue\n",
    "            list_item = f\"{k,v}\\n\"\n",
    "            summary.append(list_item)\n",
    "        return \"\".join(summary)\n",
    "        # return str(type(info_dct_view))\n",
    "\n",
    "input_dict = {\n",
    "    'not_so_secret_no':69,\n",
    "    'another_key': '666'\n",
    "}\n",
    "# web_instance = Website(name=\"tony\", domain=\"420.com\", description=\"a cool website\",kwargs=input_dict)\n",
    "web_instance3 = Website3(name=\"tony\", domain=\"420.com\", description=\"a cool website\",**input_dict)\n",
    "# vars(web_instance3)"
   ]
  },
  {
   "cell_type": "code",
   "execution_count": 72,
   "metadata": {},
   "outputs": [
    {
     "name": "stdout",
     "output_type": "stream",
     "text": [
      "tony - 140699775220576\n",
      "('another_key', '666')\n",
      "('description', 'a cool website')\n",
      "('domain', '420.com')\n",
      "('not_so_secret_no', 69)\n",
      "\n"
     ]
    }
   ],
   "source": [
    "print(web_instance3)"
   ]
  },
  {
   "cell_type": "code",
   "execution_count": 73,
   "metadata": {},
   "outputs": [
    {
     "data": {
      "text/plain": [
       "<__main__.Website3 at 0x7ff7381f3b60>"
      ]
     },
     "execution_count": 73,
     "metadata": {},
     "output_type": "execute_result"
    }
   ],
   "source": [
    "web_instance3\n"
   ]
  },
  {
   "cell_type": "code",
   "execution_count": null,
   "metadata": {},
   "outputs": [],
   "source": []
  },
  {
   "cell_type": "code",
   "execution_count": null,
   "metadata": {},
   "outputs": [],
   "source": []
  }
 ],
 "metadata": {
  "kernelspec": {
   "display_name": ".venv",
   "language": "python",
   "name": "python3"
  },
  "language_info": {
   "codemirror_mode": {
    "name": "ipython",
    "version": 3
   },
   "file_extension": ".py",
   "mimetype": "text/x-python",
   "name": "python",
   "nbconvert_exporter": "python",
   "pygments_lexer": "ipython3",
   "version": "3.13.0"
  }
 },
 "nbformat": 4,
 "nbformat_minor": 2
}
