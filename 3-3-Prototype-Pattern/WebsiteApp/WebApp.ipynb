{
 "cells": [
  {
   "cell_type": "code",
   "execution_count": 4,
   "metadata": {},
   "outputs": [],
   "source": [
    "class Web():\n",
    "    def __init__(self, name = \"default_name\", \n",
    "                 domain=\"default_dom\", \n",
    "                 desc=\"default_desc\", \n",
    "                 **kwargs):\n",
    "        self.name = name\n",
    "        self.domain = domain\n",
    "        self.desc = desc\n",
    "        for key in kwargs:\n",
    "            setattr(self, key, kwargs[key])\n",
    "    def __str__(self):\n",
    "        summary = [f\"attr_name: {self.name:15} | attr_value {id(self)}\\n\"]\n",
    "        \n",
    "        infos_view = sorted(vars(self).items()) #some_dict\n",
    "        \n",
    "        for k,v in infos_view:\n",
    "            if k==\"name\":\n",
    "                continue\n",
    "            summary.append(f\"{f\"attr_name: {k:15} | attr_value {v}\"}\\n\")\n",
    "        return \"\".join(summary)\n",
    "my_dict = {\"a_key\":\"val_1\",\"my_key\": 2,\"z_key\": 666, \"666\":\"reversed_val\"}"
   ]
  },
  {
   "cell_type": "code",
   "execution_count": 5,
   "metadata": {},
   "outputs": [
    {
     "data": {
      "text/plain": [
       "{'name': 'default_name',\n",
       " 'domain': 'default_dom',\n",
       " 'desc': 'default_desc',\n",
       " 'a_key': 'val_1',\n",
       " 'my_key': 2,\n",
       " 'z_key': 666,\n",
       " '666': 'reversed_val'}"
      ]
     },
     "execution_count": 5,
     "metadata": {},
     "output_type": "execute_result"
    }
   ],
   "source": [
    "my_dict = {\"a_key\":\"val_1\",\"my_key\": 2,\"z_key\": 666, \"666\":\"reversed_val\"}\n",
    "web = Web(**my_dict)\n",
    "vars(web)"
   ]
  },
  {
   "cell_type": "code",
   "execution_count": 6,
   "metadata": {},
   "outputs": [
    {
     "name": "stdout",
     "output_type": "stream",
     "text": [
      "<class 'int'>\n",
      "140120480145024\n"
     ]
    }
   ],
   "source": [
    "print(type(id(web)))\n",
    "print(id(web))"
   ]
  },
  {
   "cell_type": "markdown",
   "metadata": {},
   "source": [
    " ### Prototype psuedo-pattern\n",
    "- 1. init registry dict\n",
    "- 2. register instance method(id,obj): add object into registery\n",
    "- 3. deregister instance (delete) method(id): object from dict\n",
    "- 4a. clone method(id, **attrs)\n",
    "- 4b. get object\n",
    "- 4c. if not found: raise ValueError \n",
    "- 4d. copy.deepcopy(obj)\n",
    "- 4e. add **attrs\n",
    "- 4f. return obj"
   ]
  },
  {
   "cell_type": "code",
   "execution_count": 8,
   "metadata": {},
   "outputs": [],
   "source": [
    "import copy \n",
    "class Prototype():\n",
    "    def __init__(self):\n",
    "        self.reg_dict = {}\n",
    "    def register(self, uid: int, obj: object):\n",
    "        self.reg_dict[uid] = obj\n",
    "    def deregister(self, uid: int):\n",
    "        del self.reg_dict[uid]\n",
    "    def clone(self, uid:int, **attrs):\n",
    "        object_found = self.reg_dict.get(uid)\n",
    "        if not object_found:\n",
    "            raise ValueError(f\"Object not found! id[{uid!r}]\")\n",
    "        object_clone = copy.deepcopy(object_found)\n",
    "        for key in attrs:\n",
    "            setattr(object_clone,key,attrs[key])\n",
    "        return object_clone"
   ]
  },
  {
   "cell_type": "code",
   "execution_count": 9,
   "metadata": {},
   "outputs": [],
   "source": [
    "keywords_dict = {\"keywords\": ('python', 'programming', 'scripting', 'data', 'automation')}\n",
    "kws = ('python', 'programming', 'scripting', 'data', 'automation')\n"
   ]
  },
  {
   "cell_type": "code",
   "execution_count": 10,
   "metadata": {},
   "outputs": [
    {
     "name": "stdout",
     "output_type": "stream",
     "text": [
      "attr_name: Python          | attr_value 140120960774096\n",
      "attr_name: category        | attr_value Open Source Software\n",
      "attr_name: desc            | attr_value Programming language ecosystem\n",
      "attr_name: domain          | attr_value python.org\n",
      "attr_name: keywords        | attr_value ('python', 'programming', 'scripting', 'data', 'automation')\n",
      "attr_name: kws             | attr_value ('python', 'programming', 'scripting', 'data', 'automation')\n",
      "\n"
     ]
    }
   ],
   "source": [
    "site1 = Web(name = \"Python\", domain = \"python.org\", \n",
    "    desc = \"Programming language ecosystem\", \n",
    "    category = \"Open Source Software\",kws=kws,**keywords_dict)\n",
    "print(site1)"
   ]
  },
  {
   "cell_type": "code",
   "execution_count": 11,
   "metadata": {},
   "outputs": [],
   "source": [
    "protoyper = Prototype()"
   ]
  },
  {
   "cell_type": "code",
   "execution_count": 12,
   "metadata": {},
   "outputs": [
    {
     "data": {
      "text/plain": [
       "{'reg_dict': {140120960774096: <__main__.Web at 0x7f707417afd0>}}"
      ]
     },
     "execution_count": 12,
     "metadata": {},
     "output_type": "execute_result"
    }
   ],
   "source": [
    "protoyper.register(id(site1), site1)\n",
    "vars(protoyper)"
   ]
  },
  {
   "cell_type": "code",
   "execution_count": 21,
   "metadata": {},
   "outputs": [],
   "source": [
    "new_name = \"Python Package Index\"\n",
    "new_desc = \"new desc\"\n",
    "new_dom = \"piepiepie.org\"\n",
    "site2 = protoyper.clone(id(site1))"
   ]
  },
  {
   "cell_type": "code",
   "execution_count": 22,
   "metadata": {},
   "outputs": [
    {
     "name": "stdout",
     "output_type": "stream",
     "text": [
      "attr_name: Python          | attr_value 140120960578576\n",
      "attr_name: category        | attr_value Open Source Software\n",
      "attr_name: desc            | attr_value Programming language ecosystem\n",
      "attr_name: domain          | attr_value python.org\n",
      "attr_name: keywords        | attr_value ('python', 'programming', 'scripting', 'data', 'automation')\n",
      "attr_name: kws             | attr_value ('python', 'programming', 'scripting', 'data', 'automation')\n",
      "\n"
     ]
    }
   ],
   "source": [
    "print(site2)"
   ]
  },
  {
   "cell_type": "code",
   "execution_count": 23,
   "metadata": {},
   "outputs": [],
   "source": [
    "site3 = protoyper.clone(id(site1),name=new_name,desc=new_desc,domain=new_dom)"
   ]
  },
  {
   "cell_type": "code",
   "execution_count": 24,
   "metadata": {},
   "outputs": [
    {
     "name": "stdout",
     "output_type": "stream",
     "text": [
      "attr_name: Python Package Index | attr_value 140120961133264\n",
      "attr_name: category        | attr_value Open Source Software\n",
      "attr_name: desc            | attr_value new desc\n",
      "attr_name: domain          | attr_value piepiepie.org\n",
      "attr_name: keywords        | attr_value ('python', 'programming', 'scripting', 'data', 'automation')\n",
      "attr_name: kws             | attr_value ('python', 'programming', 'scripting', 'data', 'automation')\n",
      "\n"
     ]
    }
   ],
   "source": [
    "print(site3)"
   ]
  },
  {
   "cell_type": "markdown",
   "metadata": {},
   "source": [
    "### Sample Output\n",
    "\n",
    "- Python (ID: 4369628560)    \n",
    "category: Open Source Software  \n",
    "description: Programming language and ecosystem  \n",
    "domain: python.org  \n",
    "keywords: ('python', 'programming', 'scripting', 'data', 'automation')  \n",
    "\n",
    "- Python Package Index (ID: 4369627552)  \n",
    "category: Open Source Software  \n",
    "description: Repository site for Python's published packages  \n",
    "domain: pypi.org  \n",
    "keywords: ('python', 'programming', 'scripting', 'data', 'automation')  "
   ]
  },
  {
   "cell_type": "code",
   "execution_count": 27,
   "metadata": {},
   "outputs": [],
   "source": [
    "my_dicty ={\"another_key\":99,\n",
    "          \"yet_another_key\": 123}"
   ]
  },
  {
   "cell_type": "code",
   "execution_count": 28,
   "metadata": {},
   "outputs": [
    {
     "data": {
      "text/plain": [
       "{'another_key': 99, 'yet_another_key': 123}"
      ]
     },
     "execution_count": 28,
     "metadata": {},
     "output_type": "execute_result"
    }
   ],
   "source": [
    "my_dicty\n"
   ]
  },
  {
   "cell_type": "code",
   "execution_count": 29,
   "metadata": {},
   "outputs": [],
   "source": [
    "site4 = protoyper.clone(id(site1),name=new_name,desc=new_desc,domain=new_dom,**my_dicty)\n"
   ]
  },
  {
   "cell_type": "code",
   "execution_count": 20,
   "metadata": {},
   "outputs": [
    {
     "name": "stdout",
     "output_type": "stream",
     "text": [
      "attr_name: Python Package Index | attr_value 140120961134624\n",
      "attr_name: another_key     | attr_value 99\n",
      "attr_name: category        | attr_value Open Source Software\n",
      "attr_name: desc            | attr_value new desc\n",
      "attr_name: domain          | attr_value piepiepie.org\n",
      "attr_name: keywords        | attr_value ('python', 'programming', 'scripting', 'data', 'automation')\n",
      "attr_name: kws             | attr_value ('python', 'programming', 'scripting', 'data', 'automation')\n",
      "attr_name: yet_another_key | attr_value 123\n",
      "\n"
     ]
    }
   ],
   "source": [
    "print(site4)"
   ]
  }
 ],
 "metadata": {
  "kernelspec": {
   "display_name": ".venv",
   "language": "python",
   "name": "python3"
  },
  "language_info": {
   "codemirror_mode": {
    "name": "ipython",
    "version": 3
   },
   "file_extension": ".py",
   "mimetype": "text/x-python",
   "name": "python",
   "nbconvert_exporter": "python",
   "pygments_lexer": "ipython3",
   "version": "3.13.0"
  }
 },
 "nbformat": 4,
 "nbformat_minor": 2
}
